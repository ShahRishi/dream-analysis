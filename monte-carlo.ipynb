{
 "cells": [
  {
   "cell_type": "code",
   "execution_count": 1,
   "metadata": {},
   "outputs": [],
   "source": [
    "#monte-carlo.py\n",
    "#simple monte carlo simulation for the amount of \n",
    "import numpy as np\n",
    "from matplotlib import pyplot as plt"
   ]
  },
  {
   "cell_type": "code",
   "execution_count": 2,
   "metadata": {},
   "outputs": [],
   "source": [
    "#successful piglin trade probability: 4.73%\n",
    "#succes pearl drops handled as random, equally probable, and discrete\n",
    "success_array = []\n",
    "single_trade, total_trades, success_trades = 0, 0, 0\n",
    "num_trades = 262\n",
    "\n",
    "events = np.random.random(size=num_trades)\n",
    "for event in events:\n",
    "    if event <= 0.0473:\n",
    "        single_trade = np.random.randint(4, 9)\n",
    "        total_trades += single_trade\n",
    "        success_trades += 1\n",
    "    success_array.append(total_trades)\n",
    "\n",
    "    #print('In a sample of', num_simulations, 'trades', 'a total of', total_success, 'should be successful\n",
    "success_array = np.array(success_array)\n",
    "#print(success_array)"
   ]
  },
  {
   "cell_type": "code",
   "execution_count": 3,
   "metadata": {},
   "outputs": [],
   "source": [
    "#array for number of iterations (trades) \n",
    "iterations = [i for i in range(1, num_trades+1)]\n",
    "iterations = np.array(iterations)    "
   ]
  },
  {
   "cell_type": "code",
   "execution_count": 4,
   "metadata": {},
   "outputs": [
    {
     "name": "stdout",
     "output_type": "stream",
     "text": [
      "16 succesful trades 97 total pearls\n"
     ]
    },
    {
     "data": {
      "image/png": "[encoded data removed]",
      "text/plain": [
       "<Figure size 432x288 with 1 Axes>"
      ]
     },
     "metadata": {
      "needs_background": "light"
     },
     "output_type": "display_data"
    }
   ],
   "source": [
    "fig = plt.plot()\n",
    "plt.scatter(iterations, success_array)\n",
    "plt.xlabel('barter instance')\n",
    "plt.ylabel('total pearls')\n",
    "plt.title('single pearl trading simulation for ' + str(num_trades) + ' trades')\n",
    "print(success_trades, 'succesful trades', total_trades, 'total pearls')"
   ]
  },
  {
   "cell_type": "code",
   "execution_count": null,
   "metadata": {},
   "outputs": [],
   "source": []
  },
  {
   "cell_type": "code",
   "execution_count": null,
   "metadata": {},
   "outputs": [],
   "source": []
  }
 ],
 "metadata": {
  "kernelspec": {
   "display_name": "Python 3",
   "language": "python",
   "name": "python3"
  },
  "language_info": {
   "codemirror_mode": {
    "name": "ipython",
    "version": 3
   },
   "file_extension": ".py",
   "mimetype": "text/x-python",
   "name": "python",
   "nbconvert_exporter": "python",
   "pygments_lexer": "ipython3",
   "version": "3.8.5"
  }
 },
 "nbformat": 4,
 "nbformat_minor": 4
}
